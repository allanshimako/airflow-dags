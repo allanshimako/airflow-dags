{
 "cells": [
  {
   "cell_type": "code",
   "execution_count": 2,
   "metadata": {},
   "outputs": [],
   "source": [
    "from datetime import timedelta\n",
    "import papermill as pm\n",
    "import os\n",
    "\n",
    "from airflow import DAG\n",
    "\n",
    "# Operators are used to create the tasks\n",
    "from airflow.operators.bash_operator import BashOperator\n",
    "from airflow.operators.papermill_operator import PapermillOperator\n",
    "from airflow.operators.python_operator import PythonOperator\n",
    "from airflow.utils.dates import days_ago"
   ]
  },
  {
   "cell_type": "code",
   "execution_count": 3,
   "metadata": {},
   "outputs": [
    {
     "data": {
      "text/plain": [
       "<Task(PythonOperator): papermill_test>"
      ]
     },
     "execution_count": 3,
     "metadata": {},
     "output_type": "execute_result"
    }
   ],
   "source": [
    "# These args will get passed on to each operator\n",
    "# You can override them on a per-task basis during operator initialization\n",
    "default_args = {\n",
    "    'owner': 'allan',\n",
    "    'depends_on_past': False,\n",
    "    'start_date': days_ago(1),\n",
    "    'email': ['allanshimako@gmail.com'],\n",
    "    'email_on_failure': False,\n",
    "    'email_on_retry': False,\n",
    "    'retries': 1,\n",
    "    'retry_delay': timedelta(minutes=5),\n",
    "}\n",
    "\n",
    "dag = DAG(\n",
    "    'test_spark',\n",
    "    default_args=default_args,\n",
    "    description='test',\n",
    "    schedule_interval=\"@once\",\n",
    ")\n",
    "\n",
    "\n",
    "dag.doc_md = __doc__\n",
    "\n",
    "# t1 will only send start_date from bash\n",
    "t1 = BashOperator(\n",
    "    task_id='user',\n",
    "    bash_command='whoami',\n",
    "    dag=dag,\n",
    "    xcom_push=True, \n",
    ")\n",
    "\n",
    "t2 = BashOperator(\n",
    "    task_id='echo_user',\n",
    "    bash_command='echo {{ task_instance.xcom_pull(task_ids=\"user\")}}',\n",
    "    dag=dag,\n",
    "    xcom_push=True, \n",
    ")\n",
    "\n",
    "def papermill_run (config):\n",
    "    \"\"\"\n",
    "    run the notebooks called in Python operators\n",
    "    \"\"\"\n",
    "    pm.execute_notebook(\n",
    "    config.get('input_nb', None),\n",
    "    config.get('output_nb', None),\n",
    "    parameters=config.get('parameters', None))\n",
    "\n",
    "t3 = PythonOperator(\n",
    "        task_id = 'papermill_test',\n",
    "        python_callable=papermill_run,\n",
    "        op_kwargs={'config': {\n",
    "            'input_nb': '/mnt/d/notebooks/spark_test.ipynb',\n",
    "            'output_nb': '/mnt/d/notebooks/output/spark_test_{{ ds }}.ipynb',\n",
    "            'parameters': {'file':'/mnt/d/notebooks/test'\n",
    "                           , 'pyspark_python':'python3',\n",
    "                          }\n",
    "        }\n",
    "                  },\n",
    "        dag=dag,\n",
    ")\n",
    " \n",
    "    \n",
    "## PapermillOperator is not yet operational, there is an error when submitting it. \n",
    "## It was corrected and pushed to master but not yet released    \n",
    "\"\"\"t2 = PapermillOperator(\n",
    "    task_id ='test_papermill',\n",
    "    input_nb='/mnt/d/notebooks/test.ipynb',\n",
    "    output_nb='/mnt/d/notebooks/test_out.ipynb',\n",
    "    parameters={'file':'/mnt/d/notebooks/test'},\n",
    "    dag=dag\n",
    ")\"\"\"\n",
    "\n",
    "\n",
    "# \n",
    "\n",
    "t1 >> t2 >>t3"
   ]
  },
  {
   "cell_type": "code",
   "execution_count": null,
   "metadata": {},
   "outputs": [],
   "source": []
  }
 ],
 "metadata": {
  "kernelspec": {
   "display_name": "Python 3",
   "language": "python",
   "name": "python3"
  },
  "language_info": {
   "codemirror_mode": {
    "name": "ipython",
    "version": 3
   },
   "file_extension": ".py",
   "mimetype": "text/x-python",
   "name": "python",
   "nbconvert_exporter": "python",
   "pygments_lexer": "ipython3",
   "version": "3.6.9"
  }
 },
 "nbformat": 4,
 "nbformat_minor": 4
}
